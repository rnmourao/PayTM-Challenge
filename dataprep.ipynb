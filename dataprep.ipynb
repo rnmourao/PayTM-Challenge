{
 "metadata": {
  "language_info": {
   "codemirror_mode": {
    "name": "ipython",
    "version": 3
   },
   "file_extension": ".py",
   "mimetype": "text/x-python",
   "name": "python",
   "nbconvert_exporter": "python",
   "pygments_lexer": "ipython3",
   "version": "3.8.5-final"
  },
  "orig_nbformat": 2,
  "kernelspec": {
   "name": "Python 3.8.5 64-bit ('venv': virtualenv)",
   "display_name": "Python 3.8.5 64-bit ('venv': virtualenv)",
   "metadata": {
    "interpreter": {
     "hash": "0d53d61ec056cb34f1f0f4a8b3f230fc98a38e086c6a57a7a1ae03782368052b"
    }
   }
  }
 },
 "nbformat": 4,
 "nbformat_minor": 2,
 "cells": [
  {
   "cell_type": "code",
   "execution_count": 46,
   "metadata": {},
   "outputs": [],
   "source": [
    "from pyspark.sql import SparkSession\n",
    "from pyspark.sql.types import StringType, IntegerType, FloatType, DateType, StructType, StructField\n",
    "from pyspark.sql.functions import when, count, col, isnull"
   ]
  },
  {
   "cell_type": "code",
   "execution_count": 2,
   "metadata": {},
   "outputs": [],
   "source": [
    "spark = SparkSession.builder.getOrCreate()"
   ]
  },
  {
   "cell_type": "code",
   "execution_count": 3,
   "metadata": {},
   "outputs": [],
   "source": [
    "schema = StructType([StructField('STN---', IntegerType(), False),\n",
    "                     StructField('WBAN', IntegerType(), True),\n",
    "                     StructField('YEARMODA', StringType(), True),\n",
    "                     StructField('TEMP', FloatType(), True),\n",
    "                     StructField('DEWP', FloatType(), True),\n",
    "                     StructField('SLP', FloatType(), True),\n",
    "                     StructField('STP', FloatType(), True),\n",
    "                     StructField('VISIB', FloatType(), True),\n",
    "                     StructField('WDSP', FloatType(), True),\n",
    "                     StructField('MXSPD', FloatType(), True),\n",
    "                     StructField('GUST', FloatType(), True),\n",
    "                     StructField('MAX', StringType(), True),\n",
    "                     StructField('MIN', StringType(), True),\n",
    "                     StructField('PRCP', StringType(), True),\n",
    "                     StructField('SNDP', FloatType(), True),\n",
    "                     StructField('FRSHTT', StringType(), True)])"
   ]
  },
  {
   "cell_type": "code",
   "execution_count": 4,
   "metadata": {},
   "outputs": [],
   "source": [
    "weather = spark.read \\\n",
    "               .format(\"csv\") \\\n",
    "               .option(\"header\", \"true\") \\\n",
    "               .load(\"data/2019/*.csv\", schema=schema)\n",
    "weather.createOrReplaceTempView('weather')     "
   ]
  },
  {
   "cell_type": "code",
   "execution_count": 5,
   "metadata": {},
   "outputs": [
    {
     "output_type": "stream",
     "name": "stdout",
     "text": [
      "+------+-----+--------+----+----+------+------+-----+----+-----+-----+------+-----+-----+-----+------+\n|STN---| WBAN|YEARMODA|TEMP|DEWP|   SLP|   STP|VISIB|WDSP|MXSPD| GUST|   MAX|  MIN| PRCP| SNDP|FRSHTT|\n+------+-----+--------+----+----+------+------+-----+----+-----+-----+------+-----+-----+-----+------+\n|958360|99999|20190101|78.8|54.9|9999.9|9999.9|999.9| 8.8| 13.0|999.9| 96.1*| 61.9|0.00G|999.9|000000|\n|958360|99999|20190102|73.1|53.7|9999.9|9999.9|999.9| 9.5| 14.0|999.9| 89.2*|57.4*|0.00G|999.9|000000|\n|958360|99999|20190103|79.5|47.4|9999.9|9999.9|999.9| 3.2|  8.0|999.9| 96.6*| 57.2|0.00G|999.9|000000|\n|958360|99999|20190104|82.7|52.0|9999.9|9999.9|999.9|13.0| 19.0|999.9|109.8*| 60.6|0.02G|999.9|000000|\n|958360|99999|20190105|61.9|47.7|9999.9|9999.9|999.9| 8.5| 15.9|999.9| 70.5*|52.3*|0.02G|999.9|010000|\n|958360|99999|20190106|68.6|48.1|9999.9|9999.9|999.9| 9.2| 13.0|999.9| 79.9*| 52.0|0.00G|999.9|000000|\n|958360|99999|20190107|75.3|53.3|9999.9|9999.9|999.9| 5.9|  9.9|999.9| 87.8*| 55.8|0.00G|999.9|000000|\n|958360|99999|20190108|73.9|47.6|9999.9|9999.9|999.9|10.5| 15.0|999.9| 91.6*|59.0*|0.00G|999.9|000000|\n|958360|99999|20190109|65.9|42.2|9999.9|9999.9|999.9|10.1| 15.0|999.9| 77.2*|53.4*|0.00G|999.9|000000|\n|958360|99999|20190110|68.7|44.0|9999.9|9999.9|999.9| 6.8|  8.0|999.9| 79.2*| 53.1|0.00G|999.9|000000|\n|958360|99999|20190111|78.4|44.9|9999.9|9999.9|999.9| 5.9|  9.9|999.9| 92.7*| 53.8|0.00G|999.9|000000|\n|958360|99999|20190112|77.5|46.2|9999.9|9999.9|999.9|13.1| 19.0|999.9|101.3*|60.8*|0.00G|999.9|000000|\n|958360|99999|20190113|80.8|57.0|9999.9|9999.9|999.9| 7.6| 12.0|999.9| 94.3*| 60.3|0.00G|999.9|000000|\n|958360|99999|20190114|84.7|56.8|9999.9|9999.9|999.9| 4.1|  8.0|999.9|102.7*| 62.8|0.00G|999.9|000000|\n|958360|99999|20190115|87.5|43.7|9999.9|9999.9|999.9| 5.0|  8.0|999.9|106.2*| 64.0|0.00G|999.9|000000|\n|958360|99999|20190116|88.8|52.0|9999.9|9999.9|999.9| 6.9| 21.0|999.9|105.3*| 65.8|0.00G|999.9|000000|\n|958360|99999|20190117|88.3|55.2|9999.9|9999.9|999.9| 8.6| 12.0|999.9| 99.0*| 76.5|0.00G|999.9|000000|\n|958360|99999|20190118|78.0|55.6|9999.9|9999.9|999.9|10.0| 18.1|999.9| 97.7*|60.6*|0.00G|999.9|000000|\n|958360|99999|20190119|71.7|45.0|9999.9|9999.9|999.9|11.5| 15.0|999.9| 82.9*| 59.4|0.00G|999.9|000000|\n|958360|99999|20190120|77.7|56.0|9999.9|9999.9|999.9| 8.4| 14.0|999.9| 93.2*| 60.8|0.00G|999.9|000000|\n+------+-----+--------+----+----+------+------+-----+----+-----+-----+------+-----+-----+-----+------+\nonly showing top 20 rows\n\n"
     ]
    }
   ],
   "source": [
    "weather.show()"
   ]
  },
  {
   "cell_type": "code",
   "execution_count": 6,
   "metadata": {},
   "outputs": [
    {
     "output_type": "stream",
     "name": "stdout",
     "text": [
      "+-------+------------------+\n|summary|              WBAN|\n+-------+------------------+\n|  count|           4158416|\n|   mean|  86601.7904581937|\n| stddev|30631.749499926314|\n|    min|               102|\n|    max|             99999|\n+-------+------------------+\n\n"
     ]
    }
   ],
   "source": [
    "weather.select('WBAN').describe().show()"
   ]
  },
  {
   "cell_type": "code",
   "execution_count": 7,
   "metadata": {},
   "outputs": [
    {
     "output_type": "stream",
     "name": "stdout",
     "text": [
      "+------+----+----------+-----+-----+----+----+-----+-----+-----+----+------+-----+----+----+---+----+----+----+-------+-------+\n|STN_NO|WBAN|    DT_REF| TEMP| DEWP| SLP| STP|VISIB| WDSP|MXSPD|GUST|   MAX|  MIN|PRCP|SNDP|FOG|RAIN|SNOW|HAIL|THUNDER|TORNADO|\n+------+----+----------+-----+-----+----+----+-----+-----+-----+----+------+-----+----+----+---+----+----+----+-------+-------+\n|958360|null|2019-01-01|788.0|549.0|null|null| null| 88.0|130.0|null| 961.0|619.0|null|null|  0|   0|   0|   0|      0|      0|\n|958360|null|2019-01-02|731.0|537.0|null|null| null| 95.0|140.0|null| 892.0|574.0|null|null|  0|   0|   0|   0|      0|      0|\n|958360|null|2019-01-03|795.0|474.0|null|null| null| 32.0| 80.0|null| 966.0|572.0|null|null|  0|   0|   0|   0|      0|      0|\n|958360|null|2019-01-04|827.0|520.0|null|null| null|130.0|190.0|null|1098.0|606.0| 2.0|null|  0|   0|   0|   0|      0|      0|\n|958360|null|2019-01-05|619.0|477.0|null|null| null| 85.0|159.0|null| 705.0|523.0| 2.0|null|  0|   1|   0|   0|      0|      0|\n|958360|null|2019-01-06|686.0|481.0|null|null| null| 92.0|130.0|null| 799.0|520.0|null|null|  0|   0|   0|   0|      0|      0|\n|958360|null|2019-01-07|753.0|533.0|null|null| null| 59.0| 99.0|null| 878.0|558.0|null|null|  0|   0|   0|   0|      0|      0|\n|958360|null|2019-01-08|739.0|476.0|null|null| null|105.0|150.0|null| 916.0|590.0|null|null|  0|   0|   0|   0|      0|      0|\n|958360|null|2019-01-09|659.0|422.0|null|null| null|101.0|150.0|null| 772.0|534.0|null|null|  0|   0|   0|   0|      0|      0|\n|958360|null|2019-01-10|687.0|440.0|null|null| null| 68.0| 80.0|null| 792.0|531.0|null|null|  0|   0|   0|   0|      0|      0|\n|958360|null|2019-01-11|784.0|449.0|null|null| null| 59.0| 99.0|null| 927.0|538.0|null|null|  0|   0|   0|   0|      0|      0|\n|958360|null|2019-01-12|775.0|462.0|null|null| null|131.0|190.0|null|1013.0|608.0|null|null|  0|   0|   0|   0|      0|      0|\n|958360|null|2019-01-13|808.0|570.0|null|null| null| 76.0|120.0|null| 943.0|603.0|null|null|  0|   0|   0|   0|      0|      0|\n|958360|null|2019-01-14|847.0|568.0|null|null| null| 41.0| 80.0|null|1027.0|628.0|null|null|  0|   0|   0|   0|      0|      0|\n|958360|null|2019-01-15|875.0|437.0|null|null| null| 50.0| 80.0|null|1062.0|640.0|null|null|  0|   0|   0|   0|      0|      0|\n|958360|null|2019-01-16|888.0|520.0|null|null| null| 69.0|210.0|null|1053.0|658.0|null|null|  0|   0|   0|   0|      0|      0|\n|958360|null|2019-01-17|883.0|552.0|null|null| null| 86.0|120.0|null| 990.0|765.0|null|null|  0|   0|   0|   0|      0|      0|\n|958360|null|2019-01-18|780.0|556.0|null|null| null|100.0|181.0|null| 977.0|606.0|null|null|  0|   0|   0|   0|      0|      0|\n|958360|null|2019-01-19|717.0|450.0|null|null| null|115.0|150.0|null| 829.0|594.0|null|null|  0|   0|   0|   0|      0|      0|\n|958360|null|2019-01-20|777.0|560.0|null|null| null| 84.0|140.0|null| 932.0|608.0|null|null|  0|   0|   0|   0|      0|      0|\n+------+----+----------+-----+-----+----+----+-----+-----+-----+----+------+-----+----+----+---+----+----+----+-------+-------+\nonly showing top 20 rows\n\n"
     ]
    }
   ],
   "source": [
    "weather = spark.sql(\"\"\"\n",
    "\n",
    "SELECT CAST( `STN---` AS STRING ) AS STN_NO\n",
    "\n",
    "     , CASE \n",
    "          WHEN WBAN = 99999 THEN\n",
    "               NULL\n",
    "          ELSE\n",
    "               CAST( WBAN AS STRING )\n",
    "       END AS WBAN\n",
    "\n",
    "     , TO_DATE( YEARMODA, 'yyyyMMdd' ) AS DT_REF\n",
    "\n",
    "     , CASE \n",
    "          WHEN TEMP * 10 = 99999 THEN\n",
    "               NULL \n",
    "          ELSE \n",
    "               TEMP * 10 \n",
    "       END AS TEMP\n",
    "\n",
    "     , CASE \n",
    "          WHEN DEWP * 10 = 99999 THEN\n",
    "               NULL \n",
    "          ELSE \n",
    "               DEWP * 10 \n",
    "       END AS DEWP\n",
    "\n",
    "     , CASE \n",
    "          WHEN SLP * 10 = 99999 THEN\n",
    "               NULL \n",
    "          ELSE \n",
    "               SLP * 10 \n",
    "       END AS SLP\n",
    "\n",
    "     , CASE \n",
    "          WHEN STP * 10 = 99999 THEN\n",
    "               NULL \n",
    "          ELSE \n",
    "               STP *10\n",
    "       END AS STP\n",
    "\n",
    "     , CASE \n",
    "          WHEN VISIB * 10 = 9999 THEN\n",
    "               NULL \n",
    "          ELSE \n",
    "               VISIB * 10 \n",
    "       END AS VISIB\n",
    "\n",
    "     , CASE \n",
    "          WHEN WDSP * 10 = 9999 THEN\n",
    "               NULL \n",
    "          ELSE \n",
    "               WDSP * 10 \n",
    "       END AS WDSP\n",
    "\n",
    "     , CASE \n",
    "          WHEN MXSPD * 10 = 9999 THEN\n",
    "               NULL\n",
    "          ELSE \n",
    "               MXSPD * 10 \n",
    "       END AS MXSPD\n",
    "\n",
    "     , CASE \n",
    "          WHEN GUST * 10 = 9999 THEN \n",
    "               NULL \n",
    "          ELSE \n",
    "               GUST * 10\n",
    "       END AS GUST\n",
    "\n",
    "     , CASE \n",
    "          WHEN MAX = '9999.9' THEN\n",
    "               NULL \n",
    "          ELSE \n",
    "               CAST( REGEXP_REPLACE(MAX, '\\\\\\Q*\\\\\\E', '') AS REAL ) * 10 \n",
    "       END AS MAX\n",
    "\n",
    "     , CASE\n",
    "          WHEN MIN = '9999.9'THEN\n",
    "               NULL \n",
    "          ELSE \n",
    "               CAST( REGEXP_REPLACE(MIN, '\\\\\\Q*\\\\\\E', '') AS REAL ) * 10\n",
    "       END AS MIN\n",
    "\n",
    "     , CASE \n",
    "          WHEN PRCP = '99.99' OR PRCP = '0.00G' THEN \n",
    "               NULL \n",
    "          ELSE \n",
    "               CAST( REGEXP_REPLACE(PRCP, '\\\\\\QG\\\\\\E', '') AS REAL ) * 100\n",
    "       END AS PRCP\n",
    "\n",
    "     , CASE \n",
    "          WHEN SNDP * 10 = 9999 THEN\n",
    "               NULL \n",
    "          ELSE \n",
    "               SNDP * 10\n",
    "       END AS SNDP\n",
    "\n",
    "     , CAST( SUBSTR( FRSHTT, 1, 1 ) AS INTEGER ) AS FOG\n",
    "\n",
    "     , CAST( SUBSTR( FRSHTT, 2, 1 ) AS INTEGER ) AS RAIN\n",
    "\n",
    "     , CAST( SUBSTR( FRSHTT, 3, 1 ) AS INTEGER ) AS SNOW\n",
    "\n",
    "     , CAST( SUBSTR( FRSHTT, 4, 1 ) AS INTEGER ) AS HAIL\n",
    "\n",
    "     , CAST( SUBSTR( FRSHTT, 5, 1 ) AS INTEGER ) AS THUNDER\n",
    "\n",
    "     , CAST( SUBSTR( FRSHTT, 6, 1 ) AS INTEGER ) AS TORNADO\n",
    "FROM weather\n",
    "\"\"\")\n",
    "weather.show()\n",
    "weather.createOrReplaceTempView('weather')"
   ]
  },
  {
   "cell_type": "code",
   "execution_count": 8,
   "metadata": {},
   "outputs": [
    {
     "output_type": "stream",
     "name": "stdout",
     "text": [
      "root\n |-- STN_NO: string (nullable = true)\n |-- WBAN: string (nullable = true)\n |-- DT_REF: date (nullable = true)\n |-- TEMP: float (nullable = true)\n |-- DEWP: float (nullable = true)\n |-- SLP: float (nullable = true)\n |-- STP: float (nullable = true)\n |-- VISIB: float (nullable = true)\n |-- WDSP: float (nullable = true)\n |-- MXSPD: float (nullable = true)\n |-- GUST: float (nullable = true)\n |-- MAX: float (nullable = true)\n |-- MIN: float (nullable = true)\n |-- PRCP: float (nullable = true)\n |-- SNDP: float (nullable = true)\n |-- FOG: integer (nullable = true)\n |-- RAIN: integer (nullable = true)\n |-- SNOW: integer (nullable = true)\n |-- HAIL: integer (nullable = true)\n |-- THUNDER: integer (nullable = true)\n |-- TORNADO: integer (nullable = true)\n\n"
     ]
    }
   ],
   "source": [
    "weather.printSchema()"
   ]
  },
  {
   "source": [
    "## Nulls"
   ],
   "cell_type": "markdown",
   "metadata": {}
  },
  {
   "cell_type": "code",
   "execution_count": 9,
   "metadata": {},
   "outputs": [
    {
     "output_type": "execute_result",
     "data": {
      "text/plain": [
       "4158416"
      ]
     },
     "metadata": {},
     "execution_count": 9
    }
   ],
   "source": [
    "total = weather.count()\n",
    "total"
   ]
  },
  {
   "cell_type": "code",
   "execution_count": 10,
   "metadata": {},
   "outputs": [
    {
     "output_type": "stream",
     "name": "stdout",
     "text": [
      "+------+----+------+----+----+---+---+-----+----+-----+----+---+---+----+----+---+----+----+----+-------+-------+\n|STN_NO|WBAN|DT_REF|TEMP|DEWP|SLP|STP|VISIB|WDSP|MXSPD|GUST|MAX|MIN|PRCP|SNDP|FOG|RAIN|SNOW|HAIL|THUNDER|TORNADO|\n+------+----+------+----+----+---+---+-----+----+-----+----+---+---+----+----+---+----+----+----+-------+-------+\n|     0|  79|     0|   0|   4| 34| 30|   28|   4|    5|  73|  0|  0|  71|  93|  0|   0|   0|   0|      0|      0|\n+------+----+------+----+----+---+---+-----+----+-----+----+---+---+----+----+---+----+----+----+-------+-------+\n\n"
     ]
    }
   ],
   "source": [
    "weather.select([(100 * count(when(isnull(c), c)) / total).alias(c).cast(IntegerType()) for c in weather.columns]).show()"
   ]
  },
  {
   "source": [
    "WBAN, GUST, PRCP, SNDP seem useless. But let's keep them for a while because there are some joins to be done. If we need to predict a target for a particular country, these percentages may be different."
   ],
   "cell_type": "markdown",
   "metadata": {}
  },
  {
   "source": [
    "## Stations"
   ],
   "cell_type": "markdown",
   "metadata": {}
  },
  {
   "cell_type": "code",
   "execution_count": 11,
   "metadata": {},
   "outputs": [
    {
     "output_type": "stream",
     "name": "stdout",
     "text": [
      "+------+------------+\n|STN_NO|COUNTRY_ABBR|\n+------+------------+\n|012240|          NO|\n|020690|          SW|\n|020870|          SW|\n|021190|          SW|\n|032690|          UK|\n|033450|          UK|\n|039290|          UK|\n|039790|          EI|\n|040480|          IC|\n|041300|          IC|\n|060100|          FO|\n|061443|          DA|\n|063401|          NL|\n|071910|          FR|\n|092640|          GM|\n|123766|          PL|\n|125990|          PL|\n|129700|          HU|\n|132240|          HR|\n|156500|          BU|\n+------+------------+\nonly showing top 20 rows\n\n"
     ]
    }
   ],
   "source": [
    "stations = spark.read \\\n",
    "                .format(\"csv\") \\\n",
    "                .option(\"header\", \"true\") \\\n",
    "                .option(\"inferSchema\", \"true\") \\\n",
    "                .load(\"stationlist.csv\")\n",
    "stations.createOrReplaceTempView('stations')\n",
    "stations.show()"
   ]
  },
  {
   "cell_type": "code",
   "execution_count": 12,
   "metadata": {},
   "outputs": [
    {
     "output_type": "stream",
     "name": "stdout",
     "text": [
      "root\n |-- STN_NO: string (nullable = true)\n |-- COUNTRY_ABBR: string (nullable = true)\n\n"
     ]
    }
   ],
   "source": [
    "stations.printSchema()"
   ]
  },
  {
   "cell_type": "code",
   "execution_count": 13,
   "metadata": {},
   "outputs": [
    {
     "output_type": "execute_result",
     "data": {
      "text/plain": [
       "25306"
      ]
     },
     "metadata": {},
     "execution_count": 13
    }
   ],
   "source": [
    "stations.count()"
   ]
  },
  {
   "source": [
    "## Countries"
   ],
   "cell_type": "markdown",
   "metadata": {}
  },
  {
   "cell_type": "code",
   "execution_count": 14,
   "metadata": {},
   "outputs": [
    {
     "output_type": "stream",
     "name": "stdout",
     "text": [
      "root\n |-- COUNTRY_ABBR: string (nullable = true)\n |-- COUNTRY_FULL: string (nullable = true)\n\n"
     ]
    }
   ],
   "source": [
    "countries = spark.read \\\n",
    "               .format(\"csv\") \\\n",
    "               .option(\"header\", \"true\") \\\n",
    "               .option(\"inferSchema\", \"true\") \\\n",
    "               .load(\"countrylist.csv\")\n",
    "countries.createOrReplaceTempView('countries')     \n",
    "countries.printSchema()"
   ]
  },
  {
   "cell_type": "code",
   "execution_count": 15,
   "metadata": {},
   "outputs": [
    {
     "output_type": "stream",
     "name": "stdout",
     "text": [
      "+------------+--------------------+\n|COUNTRY_ABBR|        COUNTRY_FULL|\n+------------+--------------------+\n|          AA|               ARUBA|\n|          AC| ANTIGUA AND BARBUDA|\n|          AF|         AFGHANISTAN|\n|          AG|             ALGERIA|\n|          AI|    ASCENSION ISLAND|\n|          AJ|          AZERBAIJAN|\n|          AL|             ALBANIA|\n|          AM|             ARMENIA|\n|          AN|             ANDORRA|\n|          AO|              ANGOLA|\n|          AQ|      AMERICAN SAMOA|\n|          AR|           ARGENTINA|\n|          AS|           AUSTRALIA|\n|          AT|ASHMORE AND CARTI...|\n|          AU|             AUSTRIA|\n|          AV|            ANGUILLA|\n|          AX|             ANTIGUA|\n|          AY|          ANTARCTICA|\n|          AZ|              AZORES|\n|          BA|             BAHRAIN|\n+------------+--------------------+\nonly showing top 20 rows\n\n"
     ]
    }
   ],
   "source": [
    "countries.show()"
   ]
  },
  {
   "cell_type": "code",
   "execution_count": 16,
   "metadata": {},
   "outputs": [
    {
     "output_type": "execute_result",
     "data": {
      "text/plain": [
       "288"
      ]
     },
     "metadata": {},
     "execution_count": 16
    }
   ],
   "source": [
    "countries.count()"
   ]
  },
  {
   "cell_type": "code",
   "execution_count": 17,
   "metadata": {},
   "outputs": [
    {
     "output_type": "stream",
     "name": "stdout",
     "text": [
      "+------+--------------+\n|STN_NO|  COUNTRY_FULL|\n+------+--------------+\n|012240|        NORWAY|\n|020690|        SWEDEN|\n|020870|        SWEDEN|\n|021190|        SWEDEN|\n|032690|UNITED KINGDOM|\n|033450|UNITED KINGDOM|\n|039290|UNITED KINGDOM|\n|039790|       IRELAND|\n|040480|       ICELAND|\n|041300|       ICELAND|\n|060100| FAROE ISLANDS|\n|061443|       DENMARK|\n|063401|   NETHERLANDS|\n|071910|        FRANCE|\n|092640|       GERMANY|\n|123766|        POLAND|\n|125990|        POLAND|\n|129700|       HUNGARY|\n|132240|       CROATIA|\n|156500|      BULGARIA|\n+------+--------------+\nonly showing top 20 rows\n\n"
     ]
    }
   ],
   "source": [
    "stations_n_countries = spark.sql(\"\"\"\n",
    "SELECT A.STN_NO\n",
    "     , B.COUNTRY_FULL\n",
    "FROM stations A INNER JOIN countries B ON A.COUNTRY_ABBR = B.COUNTRY_ABBR\n",
    "\"\"\")\n",
    "stations_n_countries.createOrReplaceTempView('stations_n_countries')\n",
    "stations_n_countries.show()"
   ]
  },
  {
   "cell_type": "code",
   "execution_count": 18,
   "metadata": {},
   "outputs": [
    {
     "output_type": "execute_result",
     "data": {
      "text/plain": [
       "25209"
      ]
     },
     "metadata": {},
     "execution_count": 18
    }
   ],
   "source": [
    "stations_n_countries.count()"
   ]
  },
  {
   "cell_type": "code",
   "execution_count": 19,
   "metadata": {},
   "outputs": [
    {
     "output_type": "execute_result",
     "data": {
      "text/plain": [
       "97"
      ]
     },
     "metadata": {},
     "execution_count": 19
    }
   ],
   "source": [
    "missing_countries = spark.sql(\"\"\"\n",
    "\n",
    "SELECT COUNTRY_ABBR\n",
    "FROM (\n",
    "        SELECT A.STN_NO\n",
    "            , A.COUNTRY_ABBR\n",
    "            , B.COUNTRY_FULL\n",
    "        FROM stations A LEFT OUTER JOIN countries B ON A.COUNTRY_ABBR = B.COUNTRY_ABBR    \n",
    ")\n",
    "WHERE COUNTRY_FULL IS NULL\n",
    "\n",
    "\"\"\")\n",
    "missing_countries.count()"
   ]
  },
  {
   "cell_type": "code",
   "execution_count": 20,
   "metadata": {},
   "outputs": [
    {
     "output_type": "stream",
     "name": "stdout",
     "text": [
      "+------------+\n|COUNTRY_ABBR|\n+------------+\n|          UC|\n|          RI|\n|          OD|\n|          AE|\n|          KV|\n|          MJ|\n|          NN|\n|          TT|\n+------------+\n\n"
     ]
    }
   ],
   "source": [
    "missing_countries.select('COUNTRY_ABBR').distinct().show()"
   ]
  },
  {
   "source": [
    "UC stands for Union of the Comoros, based on https://planetarynames.wr.usgs.gov/Abbreviations"
   ],
   "cell_type": "markdown",
   "metadata": {}
  },
  {
   "cell_type": "code",
   "execution_count": 21,
   "metadata": {},
   "outputs": [
    {
     "output_type": "stream",
     "name": "stdout",
     "text": [
      "+------------+------------+\n|COUNTRY_ABBR|COUNTRY_FULL|\n+------------+------------+\n|          CN|     COMOROS|\n+------------+------------+\n\n"
     ]
    }
   ],
   "source": [
    "countries.where(\"COUNTRY_FULL LIKE '%COMOROS'\").show()"
   ]
  },
  {
   "cell_type": "code",
   "execution_count": 22,
   "metadata": {},
   "outputs": [
    {
     "output_type": "stream",
     "name": "stdout",
     "text": [
      "+------+------------+\n|STN_NO|COUNTRY_ABBR|\n+------+------------+\n|789880|          UC|\n+------+------------+\n\n"
     ]
    }
   ],
   "source": [
    "stations.where(\"COUNTRY_ABBR = 'UC'\").show()"
   ]
  },
  {
   "cell_type": "code",
   "execution_count": 23,
   "metadata": {},
   "outputs": [
    {
     "output_type": "stream",
     "name": "stdout",
     "text": [
      "+------+----+----------+-----+-----+-------+-------+-----+-----+-----+-----+-----+-----+----+----+---+----+----+----+-------+-------+\n|STN_NO|WBAN|    DT_REF| TEMP| DEWP|    SLP|    STP|VISIB| WDSP|MXSPD| GUST|  MAX|  MIN|PRCP|SNDP|FOG|RAIN|SNOW|HAIL|THUNDER|TORNADO|\n+------+----+----------+-----+-----+-------+-------+-----+-----+-----+-----+-----+-----+----+----+---+----+----+----+-------+-------+\n|789880| 412|2019-01-01|802.0|686.0|10142.0|10130.0| 82.0|138.0|181.0| null|871.0|754.0|null|null|  0|   0|   0|   0|      0|      0|\n|789880| 412|2019-01-02|801.0|683.0|10144.0|10133.0| 80.0|149.0|190.0|289.0|862.0|766.0|null|null|  0|   0|   0|   0|      0|      0|\n|789880| 412|2019-01-03|801.0|698.0|10138.0|10126.0| 81.0|147.0|190.0|270.0|858.0|766.0|null|null|  0|   0|   0|   0|      0|      0|\n|789880| 412|2019-01-04|802.0|702.0|10155.0|10143.0| 74.0|139.0|190.0|299.0|860.0|770.0|null|null|  0|   1|   0|   0|      0|      0|\n|789880| 412|2019-01-05|802.0|693.0|10149.0|10139.0| 83.0|121.0|150.0| null|862.0|763.0| 0.0|null|  0|   1|   0|   0|      0|      0|\n|789880| 412|2019-01-06|794.0|688.0|10142.0|10131.0| 92.0|115.0|150.0| null|844.0|752.0| 0.0|null|  0|   0|   0|   0|      0|      0|\n|789880| 412|2019-01-07|800.0|691.0|10147.0|10136.0| 92.0|132.0|159.0| null|860.0|770.0| 0.0|null|  0|   0|   0|   0|      0|      0|\n|789880| 412|2019-01-08|804.0|701.0|10150.0|10139.0| 83.0|110.0|140.0| null|858.0|765.0| 0.0|null|  0|   1|   0|   0|      0|      0|\n|789880| 412|2019-01-09|797.0|694.0|10145.0|10135.0| 92.0|103.0|130.0| null|873.0|763.0|null|null|  0|   1|   0|   0|      0|      0|\n|789880| 412|2019-01-10|779.0|694.0|10128.0|10119.0| 95.0| 71.0|111.0| null|858.0|732.0| 1.0|null|  0|   1|   0|   0|      0|      0|\n|789880| 412|2019-01-11|785.0|698.0|10142.0|10130.0|101.0| 81.0|120.0| null|860.0|723.0| 2.0|null|  0|   0|   0|   0|      0|      1|\n|789880| 412|2019-01-12|802.0|704.0|10147.0|10135.0| 86.0|106.0|120.0| null|853.0|723.0|null|null|  0|   0|   0|   0|      0|      0|\n|789880| 412|2019-01-13|798.0|693.0|10152.0|10142.0| 87.0|109.0|130.0| null|860.0|768.0| 0.0|null|  0|   0|   0|   0|      0|      0|\n|789880| 412|2019-01-14|795.0|685.0|10155.0|10144.0|115.0|104.0|130.0| null|842.0|752.0| 0.0|null|  0|   0|   0|   0|      0|      0|\n|789880| 412|2019-01-15|792.0|684.0|10148.0|10137.0|122.0|103.0|130.0| null|856.0|750.0| 0.0|null|  0|   0|   0|   0|      0|      1|\n|789880| 412|2019-01-16|794.0|698.0|10151.0|10140.0|100.0|115.0|150.0| null|855.0|750.0| 0.0|null|  0|   0|   0|   0|      0|      0|\n|789880| 412|2019-01-17|803.0|704.0|10155.0|10144.0| 91.0|124.0|159.0| null|860.0|781.0| 0.0|null|  0|   0|   0|   0|      0|      0|\n|789880| 412|2019-01-18|802.0|702.0|10146.0|10135.0| 92.0|125.0|159.0| null|862.0|768.0| 0.0|null|  0|   0|   0|   0|      0|      0|\n|789880| 412|2019-01-19|803.0|701.0|10142.0|10131.0| 90.0|125.0|159.0| null|860.0|770.0| 0.0|null|  0|   0|   0|   0|      0|      0|\n|789880| 412|2019-01-20|803.0|687.0|10141.0|10130.0| 98.0|130.0|181.0|251.0|876.0|768.0| 0.0|null|  0|   0|   0|   0|      0|      0|\n+------+----+----------+-----+-----+-------+-------+-----+-----+-----+-----+-----+-----+----+----+---+----+----+----+-------+-------+\nonly showing top 20 rows\n\n"
     ]
    }
   ],
   "source": [
    "weather.where(\"STN_NO = 789880\").show()"
   ]
  },
  {
   "cell_type": "code",
   "execution_count": 24,
   "metadata": {},
   "outputs": [
    {
     "output_type": "execute_result",
     "data": {
      "text/plain": [
       "['785145',\n",
       " '785140',\n",
       " '789880',\n",
       " '785265',\n",
       " '788660',\n",
       " '785510',\n",
       " '917920',\n",
       " '789900',\n",
       " '788730']"
      ]
     },
     "metadata": {},
     "execution_count": 24
    }
   ],
   "source": [
    "duplicated = [r['STN_NO'] for r in stations.groupBy('STN_NO').count().where('count > 1').select('STN_NO').collect()]\n",
    "duplicated"
   ]
  },
  {
   "cell_type": "code",
   "execution_count": 25,
   "metadata": {},
   "outputs": [
    {
     "output_type": "stream",
     "name": "stdout",
     "text": [
      "+------+------------+\n|STN_NO|COUNTRY_ABBR|\n+------+------------+\n|785140|          RQ|\n|785140|          US|\n|785145|          RQ|\n|785145|          US|\n|785265|          RQ|\n|785265|          US|\n|785510|          US|\n|785510|          VQ|\n|788660|          NN|\n|788660|          NT|\n|788730|          NL|\n|788730|          NT|\n|789880|          NT|\n|789880|          UC|\n|789900|          NL|\n|789900|          NT|\n|917920|          FJ|\n|917920|          TN|\n+------+------------+\n\n"
     ]
    }
   ],
   "source": [
    "stations.where('STN_NO in (' + ', '.join(duplicated) + ')').orderBy('STN_NO', 'COUNTRY_ABBR').show()"
   ]
  },
  {
   "cell_type": "code",
   "execution_count": 26,
   "metadata": {},
   "outputs": [
    {
     "output_type": "stream",
     "name": "stdout",
     "text": [
      "+------+----+----------+-----+-----+----+----+-----+-----+-----+-----+-----+-----+----+----+---+----+----+----+-------+-------+-------+\n|STN_NO|WBAN|    DT_REF| TEMP| DEWP| SLP| STP|VISIB| WDSP|MXSPD| GUST|  MAX|  MIN|PRCP|SNDP|FOG|RAIN|SNOW|HAIL|THUNDER|TORNADO|COUNTRY|\n+------+----+----------+-----+-----+----+----+-----+-----+-----+-----+-----+-----+----+----+---+----+----+----+-------+-------+-------+\n|111710|null|2019-01-01|352.0|319.0|null|null| 55.0| 61.0|229.0|460.0|376.0|315.0|14.0|null|  0|   1|   1|   0|      0|      0|AUSTRIA|\n|111710|null|2019-01-02|275.0|219.0|null|null|  6.0|172.0|272.0|490.0|376.0|212.0|16.0|null|  0|   1|   1|   0|      0|      0|AUSTRIA|\n|111710|null|2019-01-03|205.0|160.0|null|null| 11.0|151.0|220.0|410.0|252.0|176.0|11.0|null|  0|   0|   1|   0|      0|      0|AUSTRIA|\n|111710|null|2019-01-04|220.0|181.0|null|null| 18.0| 93.0|171.0|381.0|284.0|190.0|null|null|  0|   0|   1|   0|      0|      0|AUSTRIA|\n|111710|null|2019-01-05|306.0|267.0|null|null|  7.0|126.0|233.0|420.0|338.0|248.0|55.0|null|  0|   1|   1|   0|      0|      0|AUSTRIA|\n|111710|null|2019-01-06|294.0|256.0|null|null| 18.0|121.0|194.0|390.0|342.0|257.0|24.0|null|  0|   1|   1|   0|      0|      0|AUSTRIA|\n|111710|null|2019-01-07|304.0|291.0|null|null| 13.0| 62.0|120.0|241.0|327.0|266.0|55.0|null|  0|   1|   1|   0|      0|      0|AUSTRIA|\n|111710|null|2019-01-08|316.0|275.0|null|null| 21.0| 85.0|210.0|480.0|338.0|284.0|31.0|null|  0|   1|   1|   0|      0|      0|AUSTRIA|\n|111710|null|2019-01-09|286.0|242.0|null|null|  8.0|120.0|220.0|429.0|340.0|262.0|28.0|null|  0|   1|   1|   0|      0|      0|AUSTRIA|\n|111710|null|2019-01-10|258.0|237.0|null|null| 11.0| 64.0|130.0|229.0|275.0|212.0|63.0|null|  0|   1|   1|   0|      0|      0|AUSTRIA|\n|111710|null|2019-01-11|214.0|166.0|null|null| 32.0| 54.0|136.0|241.0|266.0|194.0| 4.0|null|  0|   0|   1|   0|      0|      0|AUSTRIA|\n|111710|null|2019-01-12|317.0|266.0|null|null| 21.0|102.0|159.0|410.0|342.0|217.0|24.0|null|  0|   1|   1|   0|      0|      0|AUSTRIA|\n|111710|null|2019-01-13|327.0|311.0|null|null| 17.0| 38.0|190.0|390.0|392.0|302.0|51.0|null|  0|   1|   1|   0|      0|      0|AUSTRIA|\n|111710|null|2019-01-14|326.0|259.0|null|null| 16.0|179.0|270.0|490.0|387.0|248.0|75.0|null|  0|   1|   1|   0|      0|      0|AUSTRIA|\n|111710|null|2019-01-15|287.0|214.0|null|null| 14.0|144.0|229.0|460.0|340.0|246.0|24.0|null|  0|   1|   1|   0|      0|      0|AUSTRIA|\n|111710|null|2019-01-16|305.0|249.0|null|null| 62.0| 59.0|120.0|241.0|374.0|235.0| 1.0|null|  0|   1|   0|   0|      0|      0|AUSTRIA|\n|111710|null|2019-01-17|295.0|257.0|null|null| 62.0| 60.0| 99.0| null|392.0|183.0| 0.0|null|  1|   1|   1|   0|      0|      0|AUSTRIA|\n|111710|null|2019-01-18|268.0|196.0|null|null| 48.0| 71.0|175.0|289.0|360.0|140.0|11.0|null|  0|   1|   1|   0|      0|      0|AUSTRIA|\n|111710|null|2019-01-19|174.0|127.0|null|null| 62.0| 42.0|111.0| null|284.0| 50.0| 0.0|null|  0|   0|   0|   0|      0|      0|AUSTRIA|\n|111710|null|2019-01-20|185.0|137.0|null|null| 55.0| 47.0| 80.0| null|320.0| 99.0| 0.0|null|  0|   0|   1|   0|      0|      0|AUSTRIA|\n+------+----+----------+-----+-----+----+----+-----+-----+-----+-----+-----+-----+----+----+---+----+----+----+-------+-------+-------+\nonly showing top 20 rows\n\n"
     ]
    }
   ],
   "source": [
    "weather = spark.sql(\"\"\"\n",
    "SELECT A.*\n",
    "     , B.COUNTRY_FULL AS COUNTRY \n",
    "FROM weather A INNER JOIN stations_n_countries B ON A.STN_NO = B.STN_NO\n",
    "\"\"\")\n",
    "weather.createOrReplaceTempView('weather')\n",
    "weather.show()"
   ]
  },
  {
   "cell_type": "code",
   "execution_count": 27,
   "metadata": {},
   "outputs": [
    {
     "output_type": "execute_result",
     "data": {
      "text/plain": [
       "64753"
      ]
     },
     "metadata": {},
     "execution_count": 27
    }
   ],
   "source": [
    "total = weather.where(\"COUNTRY = 'INDIA'\").count()\n",
    "total"
   ]
  },
  {
   "cell_type": "code",
   "execution_count": 28,
   "metadata": {},
   "outputs": [
    {
     "output_type": "stream",
     "name": "stdout",
     "text": [
      "+------+----+------+----+----+---+---+-----+----+-----+----+---+---+----+----+---+----+----+----+-------+-------+-------+\n|STN_NO|WBAN|DT_REF|TEMP|DEWP|SLP|STP|VISIB|WDSP|MXSPD|GUST|MAX|MIN|PRCP|SNDP|FOG|RAIN|SNOW|HAIL|THUNDER|TORNADO|COUNTRY|\n+------+----+------+----+----+---+---+-----+----+-----+----+---+---+----+----+---+----+----+----+-------+-------+-------+\n|     0| 100|     0|   0|   0| 32| 68|    0|   0|    6|  96|  0|  0|  78|  99|  0|   0|   0|   0|      0|      0|      0|\n+------+----+------+----+----+---+---+-----+----+-----+----+---+---+----+----+---+----+----+----+-------+-------+-------+\n\n"
     ]
    }
   ],
   "source": [
    "weather.where(\"COUNTRY = 'INDIA'\") \\\n",
    "       .select([(100 * count(when(isnull(c), c)) / total).alias(c).cast(IntegerType()) for c in weather.columns]) \\\n",
    "       .show()"
   ]
  },
  {
   "cell_type": "code",
   "execution_count": 29,
   "metadata": {},
   "outputs": [
    {
     "output_type": "execute_result",
     "data": {
      "text/plain": [
       "3583663"
      ]
     },
     "metadata": {},
     "execution_count": 29
    }
   ],
   "source": [
    "weather.count()"
   ]
  },
  {
   "cell_type": "code",
   "execution_count": 38,
   "metadata": {},
   "outputs": [
    {
     "output_type": "execute_result",
     "data": {
      "text/plain": [
       "75843"
      ]
     },
     "metadata": {},
     "execution_count": 38
    }
   ],
   "source": [
    "grouped = spark.sql(\"\"\"\n",
    "\n",
    "SELECT COUNTRY\n",
    "     , DT_REF\n",
    "     , AVG(TEMP)    AS TEMP\n",
    "     , AVG(DEWP)    AS DEWP\n",
    "     , AVG(SLP)     AS SLP\n",
    "     , AVG(STP)     AS STP\n",
    "     , AVG(VISIB)   AS VISIB\n",
    "     , AVG(WDSP)    AS WDSP\n",
    "     , AVG(MXSPD)   AS MXSPD\n",
    "     , AVG(GUST)    AS GUST\n",
    "     , AVG(MAX)     AS MAX\n",
    "     , AVG(MIN)     AS MIN\n",
    "     , AVG(PRCP)    AS PRCP\n",
    "     , AVG(SNDP)    AS SNDP\n",
    "     , MAX(FOG)     AS FOG\n",
    "     , MAX(RAIN)    AS RAIN\n",
    "     , MAX(SNOW)    AS SNOW\n",
    "     , MAX(HAIL)    AS HAIL\n",
    "     , MAX(THUNDER) AS THUNDER\n",
    "     , MAX(TORNADO) AS TORNADO\n",
    "FROM weather\n",
    "GROUP BY COUNTRY\n",
    "       , DT_REF\n",
    "\n",
    "\"\"\")\n",
    "\n",
    "grouped.count()"
   ]
  },
  {
   "cell_type": "code",
   "execution_count": 48,
   "metadata": {},
   "outputs": [
    {
     "output_type": "stream",
     "name": "stdout",
     "text": [
      "+--------------------+-----+\n|             COUNTRY|count|\n+--------------------+-----+\n| JUAN DE NOVA ISLAND|   37|\n|             TOKELAU|   70|\n|ST. VINCENT AND T...|   75|\n|    PITCAIRN ISLANDS|   81|\n|           SWAZILAND|  274|\n|          MONTSERRAT|  295|\n|             LESOTHO|  295|\n|SAO TOME AND PRIN...|  307|\n|        SIERRA LEONE|  313|\n|              MALAWI|  323|\n|               LIBYA|  326|\n|            DJIBOUTI|  332|\n|               ZAIRE|  333|\n|             BURUNDI|  333|\n|              GUINEA|  333|\n|            CAMEROON|  336|\n|CENTRAL AFRICAN R...|  336|\n|   EQUATORIAL GUINEA|  336|\n|            ZIMBABWE|  342|\n|    CHRISTMAS ISLAND|  350|\n+--------------------+-----+\nonly showing top 20 rows\n\n"
     ]
    }
   ],
   "source": [
    "grouped.groupBy('COUNTRY').count().where('count < 365').orderBy('count').show()"
   ]
  },
  {
   "cell_type": "code",
   "execution_count": 49,
   "metadata": {},
   "outputs": [],
   "source": [
    "grouped.repartition(5).write.csv('data/grouped', header=True)"
   ]
  },
  {
   "cell_type": "code",
   "execution_count": null,
   "metadata": {},
   "outputs": [],
   "source": []
  }
 ]
}