{
 "metadata": {
  "language_info": {
   "codemirror_mode": {
    "name": "ipython",
    "version": 3
   },
   "file_extension": ".py",
   "mimetype": "text/x-python",
   "name": "python",
   "nbconvert_exporter": "python",
   "pygments_lexer": "ipython3",
   "version": "3.8.5-final"
  },
  "orig_nbformat": 2,
  "kernelspec": {
   "name": "Python 3.8.5 64-bit ('venv': virtualenv)",
   "display_name": "Python 3.8.5 64-bit ('venv': virtualenv)",
   "metadata": {
    "interpreter": {
     "hash": "0d53d61ec056cb34f1f0f4a8b3f230fc98a38e086c6a57a7a1ae03782368052b"
    }
   }
  }
 },
 "nbformat": 4,
 "nbformat_minor": 2,
 "cells": [
  {
   "cell_type": "code",
   "execution_count": 1,
   "metadata": {},
   "outputs": [],
   "source": [
    "from pyspark.sql import SparkSession\n",
    "from pyspark.sql.types import StringType, IntegerType, FloatType, DateType, StructType, StructField"
   ]
  },
  {
   "cell_type": "code",
   "execution_count": 2,
   "metadata": {},
   "outputs": [],
   "source": [
    "spark = SparkSession.builder.getOrCreate()"
   ]
  },
  {
   "cell_type": "code",
   "execution_count": 3,
   "metadata": {},
   "outputs": [],
   "source": [
    "schema = StructType([StructField('STN---', IntegerType(), False),\n",
    "                     StructField('WBAN', IntegerType(), True),\n",
    "                     StructField('YEARMODA', StringType(), True),\n",
    "                     StructField('TEMP', FloatType(), True),\n",
    "                     StructField('DEWP', FloatType(), True),\n",
    "                     StructField('SLP', FloatType(), True),\n",
    "                     StructField('STP', FloatType(), True),\n",
    "                     StructField('VISIB', FloatType(), True),\n",
    "                     StructField('WDSP', FloatType(), True),\n",
    "                     StructField('MXSPD', FloatType(), True),\n",
    "                     StructField('GUST', FloatType(), True),\n",
    "                     StructField('MAX', StringType(), True),\n",
    "                     StructField('MIN', StringType(), True),\n",
    "                     StructField('PRCP', StringType(), True),\n",
    "                     StructField('SNDP', FloatType(), True),\n",
    "                     StructField('FRSHTT', StringType(), True)])"
   ]
  },
  {
   "cell_type": "code",
   "execution_count": 4,
   "metadata": {},
   "outputs": [],
   "source": [
    "weather = spark.read \\\n",
    "               .format(\"csv\") \\\n",
    "               .option(\"header\", \"true\") \\\n",
    "               .load(\"data/2019/*.csv\", schema=schema)\n",
    "weather.createOrReplaceTempView('weather')     "
   ]
  },
  {
   "cell_type": "code",
   "execution_count": 5,
   "metadata": {},
   "outputs": [
    {
     "output_type": "stream",
     "name": "stdout",
     "text": [
      "+------+-----+--------+----+----+------+------+-----+----+-----+-----+------+-----+-----+-----+------+\n|STN---| WBAN|YEARMODA|TEMP|DEWP|   SLP|   STP|VISIB|WDSP|MXSPD| GUST|   MAX|  MIN| PRCP| SNDP|FRSHTT|\n+------+-----+--------+----+----+------+------+-----+----+-----+-----+------+-----+-----+-----+------+\n|958360|99999|20190101|78.8|54.9|9999.9|9999.9|999.9| 8.8| 13.0|999.9| 96.1*| 61.9|0.00G|999.9|000000|\n|958360|99999|20190102|73.1|53.7|9999.9|9999.9|999.9| 9.5| 14.0|999.9| 89.2*|57.4*|0.00G|999.9|000000|\n|958360|99999|20190103|79.5|47.4|9999.9|9999.9|999.9| 3.2|  8.0|999.9| 96.6*| 57.2|0.00G|999.9|000000|\n|958360|99999|20190104|82.7|52.0|9999.9|9999.9|999.9|13.0| 19.0|999.9|109.8*| 60.6|0.02G|999.9|000000|\n|958360|99999|20190105|61.9|47.7|9999.9|9999.9|999.9| 8.5| 15.9|999.9| 70.5*|52.3*|0.02G|999.9|010000|\n|958360|99999|20190106|68.6|48.1|9999.9|9999.9|999.9| 9.2| 13.0|999.9| 79.9*| 52.0|0.00G|999.9|000000|\n|958360|99999|20190107|75.3|53.3|9999.9|9999.9|999.9| 5.9|  9.9|999.9| 87.8*| 55.8|0.00G|999.9|000000|\n|958360|99999|20190108|73.9|47.6|9999.9|9999.9|999.9|10.5| 15.0|999.9| 91.6*|59.0*|0.00G|999.9|000000|\n|958360|99999|20190109|65.9|42.2|9999.9|9999.9|999.9|10.1| 15.0|999.9| 77.2*|53.4*|0.00G|999.9|000000|\n|958360|99999|20190110|68.7|44.0|9999.9|9999.9|999.9| 6.8|  8.0|999.9| 79.2*| 53.1|0.00G|999.9|000000|\n|958360|99999|20190111|78.4|44.9|9999.9|9999.9|999.9| 5.9|  9.9|999.9| 92.7*| 53.8|0.00G|999.9|000000|\n|958360|99999|20190112|77.5|46.2|9999.9|9999.9|999.9|13.1| 19.0|999.9|101.3*|60.8*|0.00G|999.9|000000|\n|958360|99999|20190113|80.8|57.0|9999.9|9999.9|999.9| 7.6| 12.0|999.9| 94.3*| 60.3|0.00G|999.9|000000|\n|958360|99999|20190114|84.7|56.8|9999.9|9999.9|999.9| 4.1|  8.0|999.9|102.7*| 62.8|0.00G|999.9|000000|\n|958360|99999|20190115|87.5|43.7|9999.9|9999.9|999.9| 5.0|  8.0|999.9|106.2*| 64.0|0.00G|999.9|000000|\n|958360|99999|20190116|88.8|52.0|9999.9|9999.9|999.9| 6.9| 21.0|999.9|105.3*| 65.8|0.00G|999.9|000000|\n|958360|99999|20190117|88.3|55.2|9999.9|9999.9|999.9| 8.6| 12.0|999.9| 99.0*| 76.5|0.00G|999.9|000000|\n|958360|99999|20190118|78.0|55.6|9999.9|9999.9|999.9|10.0| 18.1|999.9| 97.7*|60.6*|0.00G|999.9|000000|\n|958360|99999|20190119|71.7|45.0|9999.9|9999.9|999.9|11.5| 15.0|999.9| 82.9*| 59.4|0.00G|999.9|000000|\n|958360|99999|20190120|77.7|56.0|9999.9|9999.9|999.9| 8.4| 14.0|999.9| 93.2*| 60.8|0.00G|999.9|000000|\n+------+-----+--------+----+----+------+------+-----+----+-----+-----+------+-----+-----+-----+------+\nonly showing top 20 rows\n\n"
     ]
    }
   ],
   "source": [
    "weather.show()"
   ]
  },
  {
   "cell_type": "code",
   "execution_count": 6,
   "metadata": {},
   "outputs": [
    {
     "output_type": "stream",
     "name": "stdout",
     "text": [
      "+-------+------------------+\n|summary|              WBAN|\n+-------+------------------+\n|  count|           4158416|\n|   mean|  86601.7904581937|\n| stddev|30631.749499926314|\n|    min|               102|\n|    max|             99999|\n+-------+------------------+\n\n"
     ]
    }
   ],
   "source": [
    "weather.select('WBAN').describe().show()"
   ]
  },
  {
   "cell_type": "code",
   "execution_count": 8,
   "metadata": {},
   "outputs": [
    {
     "output_type": "stream",
     "name": "stdout",
     "text": [
      "+------+----+----------+----+----+----+----+-----+----+-----+----+-----+----+----+----+---+----+----+----+-------+-------+\n|STN_NO|WBAN|    DT_REF|TEMP|DEWP| SLP| STP|VISIB|WDSP|MXSPD|GUST|  MAX| MIN|PRCP|SNDP|FOG|RAIN|SNOW|HAIL|THUNDER|TORNADO|\n+------+----+----------+----+----+----+----+-----+----+-----+----+-----+----+----+----+---+----+----+----+-------+-------+\n|958360|null|2019-01-01|78.8|54.9|null|null| null| 8.8| 13.0|null| 96.1|61.9|null|null|  0|   0|   0|   0|      0|      0|\n|958360|null|2019-01-02|73.1|53.7|null|null| null| 9.5| 14.0|null| 89.2|57.4|null|null|  0|   0|   0|   0|      0|      0|\n|958360|null|2019-01-03|79.5|47.4|null|null| null| 3.2|  8.0|null| 96.6|57.2|null|null|  0|   0|   0|   0|      0|      0|\n|958360|null|2019-01-04|82.7|52.0|null|null| null|13.0| 19.0|null|109.8|60.6|0.02|null|  0|   0|   0|   0|      0|      0|\n|958360|null|2019-01-05|61.9|47.7|null|null| null| 8.5| 15.9|null| 70.5|52.3|0.02|null|  0|   1|   0|   0|      0|      0|\n|958360|null|2019-01-06|68.6|48.1|null|null| null| 9.2| 13.0|null| 79.9|52.0|null|null|  0|   0|   0|   0|      0|      0|\n|958360|null|2019-01-07|75.3|53.3|null|null| null| 5.9|  9.9|null| 87.8|55.8|null|null|  0|   0|   0|   0|      0|      0|\n|958360|null|2019-01-08|73.9|47.6|null|null| null|10.5| 15.0|null| 91.6|59.0|null|null|  0|   0|   0|   0|      0|      0|\n|958360|null|2019-01-09|65.9|42.2|null|null| null|10.1| 15.0|null| 77.2|53.4|null|null|  0|   0|   0|   0|      0|      0|\n|958360|null|2019-01-10|68.7|44.0|null|null| null| 6.8|  8.0|null| 79.2|53.1|null|null|  0|   0|   0|   0|      0|      0|\n|958360|null|2019-01-11|78.4|44.9|null|null| null| 5.9|  9.9|null| 92.7|53.8|null|null|  0|   0|   0|   0|      0|      0|\n|958360|null|2019-01-12|77.5|46.2|null|null| null|13.1| 19.0|null|101.3|60.8|null|null|  0|   0|   0|   0|      0|      0|\n|958360|null|2019-01-13|80.8|57.0|null|null| null| 7.6| 12.0|null| 94.3|60.3|null|null|  0|   0|   0|   0|      0|      0|\n|958360|null|2019-01-14|84.7|56.8|null|null| null| 4.1|  8.0|null|102.7|62.8|null|null|  0|   0|   0|   0|      0|      0|\n|958360|null|2019-01-15|87.5|43.7|null|null| null| 5.0|  8.0|null|106.2|64.0|null|null|  0|   0|   0|   0|      0|      0|\n|958360|null|2019-01-16|88.8|52.0|null|null| null| 6.9| 21.0|null|105.3|65.8|null|null|  0|   0|   0|   0|      0|      0|\n|958360|null|2019-01-17|88.3|55.2|null|null| null| 8.6| 12.0|null| 99.0|76.5|null|null|  0|   0|   0|   0|      0|      0|\n|958360|null|2019-01-18|78.0|55.6|null|null| null|10.0| 18.1|null| 97.7|60.6|null|null|  0|   0|   0|   0|      0|      0|\n|958360|null|2019-01-19|71.7|45.0|null|null| null|11.5| 15.0|null| 82.9|59.4|null|null|  0|   0|   0|   0|      0|      0|\n|958360|null|2019-01-20|77.7|56.0|null|null| null| 8.4| 14.0|null| 93.2|60.8|null|null|  0|   0|   0|   0|      0|      0|\n+------+----+----------+----+----+----+----+-----+----+-----+----+-----+----+----+----+---+----+----+----+-------+-------+\nonly showing top 20 rows\n\n"
     ]
    }
   ],
   "source": [
    "df = spark.sql(\"\"\"\n",
    "\n",
    "SELECT `STN---` AS STN_NO\n",
    "     , CASE WHEN WBAN = 99999 THEN NULL ELSE WBAN END AS WBAN\n",
    "     , TO_DATE(YEARMODA, 'yyyyMMdd') as DT_REF\n",
    "     , CASE WHEN TEMP * 10 = 99999 THEN NULL ELSE TEMP END AS TEMP\n",
    "     , CASE WHEN DEWP * 10 = 99999 THEN NULL ELSE DEWP END AS DEWP\n",
    "     , CASE WHEN SLP * 10 = 99999 THEN NULL ELSE SLP END AS SLP\n",
    "     , CASE WHEN STP * 10 = 99999 THEN NULL ELSE STP END AS STP\n",
    "     , CASE WHEN VISIB * 10 = 9999 THEN NULL ELSE VISIB END AS VISIB\n",
    "     , CASE WHEN WDSP * 10 = 9999 THEN NULL ELSE WDSP END AS WDSP\n",
    "     , CASE WHEN MXSPD * 10 = 9999 THEN NULL ELSE MXSPD END AS MXSPD\n",
    "     , CASE WHEN GUST * 10 = 9999 THEN NULL ELSE GUST END AS GUST\n",
    "     , CASE WHEN MAX = '9999.9' THEN NULL ELSE CAST( REGEXP_REPLACE(MAX, '\\\\\\Q*\\\\\\E', '') AS REAL ) END AS MAX\n",
    "     , CASE WHEN MIN = '9999.9' THEN NULL ELSE CAST( REGEXP_REPLACE(MIN, '\\\\\\Q*\\\\\\E', '') AS REAL ) END AS MIN\n",
    "     , CASE WHEN PRCP = '99.99' OR PRCP = '0.00G' THEN NULL ELSE CAST( REGEXP_REPLACE(PRCP, '\\\\\\QG\\\\\\E', '') AS REAL ) END AS PRCP\n",
    "     , CASE WHEN SNDP * 10 = 9999 THEN NULL ELSE SNDP END AS SNDP\n",
    "     , CAST(SUBSTR(FRSHTT, 1, 1) AS INTEGER) AS FOG\n",
    "     , CAST(SUBSTR(FRSHTT, 2, 1) AS INTEGER) AS RAIN\n",
    "     , CAST(SUBSTR(FRSHTT, 3, 1) AS INTEGER) AS SNOW\n",
    "     , CAST(SUBSTR(FRSHTT, 4, 1) AS INTEGER) AS HAIL\n",
    "     , CAST(SUBSTR(FRSHTT, 5, 1) AS INTEGER) AS THUNDER\n",
    "     , CAST(SUBSTR(FRSHTT, 6, 1) AS INTEGER) AS TORNADO\n",
    "FROM weather\n",
    "\"\"\")\n",
    "df.show()\n",
    "df.createOrReplaceTempView('weather')"
   ]
  },
  {
   "cell_type": "code",
   "execution_count": 10,
   "metadata": {},
   "outputs": [
    {
     "output_type": "execute_result",
     "data": {
      "text/plain": [
       "4158416"
      ]
     },
     "metadata": {},
     "execution_count": 10
    }
   ],
   "source": [
    "df.count()"
   ]
  },
  {
   "cell_type": "code",
   "execution_count": null,
   "metadata": {},
   "outputs": [],
   "source": []
  }
 ]
}